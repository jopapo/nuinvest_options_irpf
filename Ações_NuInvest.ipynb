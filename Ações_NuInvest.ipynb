{
  "nbformat": 4,
  "nbformat_minor": 0,
  "metadata": {
    "colab": {
      "provenance": [],
      "authorship_tag": "ABX9TyOYY/z+L93eWkm8fiBbBoKg",
      "include_colab_link": true
    },
    "kernelspec": {
      "name": "python3",
      "display_name": "Python 3"
    },
    "language_info": {
      "name": "python"
    }
  },
  "cells": [
    {
      "cell_type": "markdown",
      "metadata": {
        "id": "view-in-github",
        "colab_type": "text"
      },
      "source": [
        "<a href=\"https://colab.research.google.com/github/jopapo/nuinvest_options_irpf/blob/main/A%C3%A7%C3%B5es_NuInvest.ipynb\" target=\"_parent\"><img src=\"https://colab.research.google.com/assets/colab-badge.svg\" alt=\"Open In Colab\"/></a>"
      ]
    },
    {
      "cell_type": "markdown",
      "source": [
        "Isso vai instalar a biblioteca de processamento das notas de negociação em PDF e instalar os módulos necessários ao algoritmo"
      ],
      "metadata": {
        "id": "QtWKudcIVMhv"
      }
    },
    {
      "cell_type": "code",
      "source": [
        "# Not installed libs\n",
        "\n",
        "!pip install pdfminer"
      ],
      "metadata": {
        "id": "1dbXeftmRB4n",
        "colab": {
          "base_uri": "https://localhost:8080/"
        },
        "outputId": "82ffc6f8-ea42-42f1-baef-3b609a5318cc"
      },
      "execution_count": null,
      "outputs": [
        {
          "output_type": "stream",
          "name": "stdout",
          "text": [
            "Looking in indexes: https://pypi.org/simple, https://us-python.pkg.dev/colab-wheels/public/simple/\n",
            "Collecting pdfminer\n",
            "  Downloading pdfminer-20191125.tar.gz (4.2 MB)\n",
            "\u001b[2K     \u001b[90m━━━━━━━━━━━━━━━━━━━━━━━━━━━━━━━━━━━━━━━━\u001b[0m \u001b[32m4.2/4.2 MB\u001b[0m \u001b[31m25.5 MB/s\u001b[0m eta \u001b[36m0:00:00\u001b[0m\n",
            "\u001b[?25h  Preparing metadata (setup.py) ... \u001b[?25l\u001b[?25hdone\n",
            "Collecting pycryptodome\n",
            "  Downloading pycryptodome-3.17-cp35-abi3-manylinux_2_17_x86_64.manylinux2014_x86_64.whl (2.1 MB)\n",
            "\u001b[2K     \u001b[90m━━━━━━━━━━━━━━━━━━━━━━━━━━━━━━━━━━━━━━━━\u001b[0m \u001b[32m2.1/2.1 MB\u001b[0m \u001b[31m48.9 MB/s\u001b[0m eta \u001b[36m0:00:00\u001b[0m\n",
            "\u001b[?25hBuilding wheels for collected packages: pdfminer\n",
            "  Building wheel for pdfminer (setup.py) ... \u001b[?25l\u001b[?25hdone\n",
            "  Created wheel for pdfminer: filename=pdfminer-20191125-py3-none-any.whl size=6140061 sha256=cd049452cce2b6c9f2367c8e2e941e84a79412c5b9219cb8921b949759d54621\n",
            "  Stored in directory: /root/.cache/pip/wheels/d1/aa/48/370f83a970d62355a2a47d2d640094a64eea932c22edae1891\n",
            "Successfully built pdfminer\n",
            "Installing collected packages: pycryptodome, pdfminer\n",
            "Successfully installed pdfminer-20191125 pycryptodome-3.17\n"
          ]
        }
      ]
    },
    {
      "cell_type": "code",
      "execution_count": null,
      "metadata": {
        "id": "XnKw5zDwWR0d"
      },
      "outputs": [],
      "source": [
        "# Requirements\n",
        "\n",
        "import requests\n",
        "from pathlib import Path\n",
        "from getpass import getpass\n",
        "import os\n",
        "import re\n",
        "from openpyxl import load_workbook"
      ]
    },
    {
      "cell_type": "markdown",
      "source": [
        "Isso aqui vai setar a autenticação.\n",
        "\n",
        "Observação: Ele não autentica. Você deve autenticar na sua conta nuinvest e obter o bearer token usando o dev tools do seu navegador."
      ],
      "metadata": {
        "id": "0nxWcF3DVYOe"
      }
    },
    {
      "cell_type": "code",
      "source": [
        "# You should login to your nuinvest account and get the bearer token from the request\n",
        "access_token = getpass('bearer token')\n",
        "\n",
        "session = requests.Session()\n",
        "session.headers.update({'Authorization': f\"Bearer {access_token}\"})\n"
      ],
      "metadata": {
        "id": "Qu5OefZ8WnB3",
        "colab": {
          "base_uri": "https://localhost:8080/"
        },
        "outputId": "3cb88104-1a9f-466e-b566-67c261ee2bf0"
      },
      "execution_count": null,
      "outputs": [
        {
          "name": "stdout",
          "output_type": "stream",
          "text": [
            "year2022\n",
            "bearer token··········\n"
          ]
        }
      ]
    },
    {
      "cell_type": "code",
      "source": [
        "# Variables\n",
        "year = input('year')\n",
        "\n",
        "#%rm -rf /content/2021\n",
        "%cd /content\n",
        "\n",
        "%mkdir -p {year}\n",
        "%cd {year}"
      ],
      "metadata": {
        "colab": {
          "base_uri": "https://localhost:8080/"
        },
        "id": "MICcLq8FooVy",
        "outputId": "246a3b4d-925a-4dc2-fa51-83d3b31fe1d9"
      },
      "execution_count": 92,
      "outputs": [
        {
          "output_type": "stream",
          "name": "stdout",
          "text": [
            "year2022\n",
            "/content\n",
            "/content/2022\n"
          ]
        }
      ]
    },
    {
      "cell_type": "markdown",
      "source": [
        "Este resumo é interessante mas faltam informações como CNPJ da empresa e taxa. É bom pra fazer uma prova real."
      ],
      "metadata": {
        "id": "08SzgvRYdxy2"
      }
    },
    {
      "cell_type": "code",
      "source": [
        "# Get Invoices Pdfs\n",
        "\n",
        "def get_summary():\n",
        "\n",
        "  response = session.get(f\"https://www.nuinvest.com.br/api/gringott/tradingSummary/1?startDate={year}-01-01&endDate={year}-12-31\")\n",
        "  response.raise_for_status()\n",
        "\n",
        "  print(response)\n",
        "\n",
        "  trades = []\n",
        "  if response.status_code == 204:\n",
        "    print(f'No data period')\n",
        "  else:\n",
        "    trades = response.json()['value']['statements']\n",
        "  \n",
        "  totals = {}\n",
        "  for trade in trades:\n",
        "    total = totals.get(trade['ticker'])\n",
        "    if not total:\n",
        "      total = {\n",
        "          'sellQuantity': 0,\n",
        "          'buyQuantity': 0,\n",
        "          'totalBuyValue': 0.0\n",
        "      }\n",
        "    total['sellQuantity'] = total['sellQuantity'] + trade['sellQuantity']\n",
        "    total['buyQuantity'] = total['buyQuantity'] + trade['buyQuantity']\n",
        "    total['totalBuyValue'] = total['totalBuyValue'] + trade['buyValue']\n",
        "    totals[trade['ticker']] = total\n",
        "    #print(trade)\n",
        "\n",
        "  return totals\n",
        "\n",
        "def get_companies():\n",
        "  filename = Path(\"Companies.xlsx\")\n",
        "  if not filename.exists():\n",
        "    response = requests.get(\"https://www.infomoney.com.br/wp-content/uploads/2022/03/Planilha-CNPJ-das-empresas-da-B3.xlsx\")\n",
        "    response.raise_for_status()  \n",
        "    filename.write_bytes(response.content)\n",
        "\n",
        "  wb = load_workbook(filename=filename.name)\n",
        "  sheet = wb['Principal']\n",
        "  names = {}\n",
        "  for i in range(14, sheet.max_row + 1):\n",
        "    names[sheet[i][1].value] = {\n",
        "        'cnpj': sheet[i][4].value,\n",
        "        'name': sheet[i][3].value,\n",
        "        'irpf_code': 31\n",
        "    }\n",
        "\n",
        "  #print(names)\n",
        "  return names\n",
        "\n",
        "\n",
        "summary = get_summary()\n",
        "\n",
        "companies = get_companies()\n",
        "\n",
        "def get_company(ticker):\n",
        "  company = companies.get(ticker[:4])\n",
        "  if not company:\n",
        "    # Se não tiver ação, entendemos que é FII\n",
        "    response = requests.get(f\"https://informederendimentos.com/consulta/cnpj-{ticker}/\")\n",
        "    response.raise_for_status()\n",
        "    txt = response.text\n",
        "\n",
        "    company = {\n",
        "        'irpf_code': 73 # 73 - Fundos de investimento imobiliário. (ou 26 - outro)\n",
        "    } \n",
        "\n",
        "    matches = re.search(r\"\\d{2}\\.\\d{3}\\.\\d{3}\\/\\d{4}\\-\\d{2}\", txt)\n",
        "    company['cnpj'] = matches.group(0)\n",
        "\n",
        "    matches = re.search(r\"\\bNome empresarial: \\b(.+)\\.\", txt)\n",
        "    company['name'] = matches.group(1)\n",
        "\n",
        "    #: Empresa de São Paulo/SP fundada em 05/11/2015. Sua atividade principal é fundos de investimento imobiliários. Nome empresarial: FUNDO DE INVESTIMENTO IMOBILIARIO GREEN TOWERS.\n",
        "    companies[ticker[:4]] = company\n",
        "\n",
        "  return company\n",
        "\n",
        "for ticker, values in summary.items():\n",
        "  average_price = values['totalBuyValue'] / values['buyQuantity']\n",
        "  company = get_company(ticker)\n",
        "  ownedQuantity = values['buyQuantity'] - values['sellQuantity']\n",
        "  print(ticker, 'averageBuyValue:', round(average_price, 2), \n",
        "        'ownedQuantity:', ownedQuantity,\n",
        "        'ownedValue:', round(ownedQuantity * average_price, 2), company)\n",
        "\n",
        "\n",
        "# Ações: você pode utilizar o preço médio de compra e o código 31 - Ações.\n",
        "# FIIs: você pode utilizar o preço médio de compra e o código 73 - Fundos de investimento imobiliário. (ou 26 - outro)\n",
        "# ETFs: você pode utilizar o preço médio de compra e o código 74 - Fundos de investimento de índice de mercado.\n",
        "# Juros e dividendos creditados e não pagos: você pode utilizar o código 99 - Outros bens e direitos."
      ],
      "metadata": {
        "colab": {
          "base_uri": "https://localhost:8080/"
        },
        "id": "Sw3ek4fCdw3m",
        "outputId": "9acc63fa-8ecf-4b43-f2cc-cf5bdc8c9e76"
      },
      "execution_count": 93,
      "outputs": [
        {
          "output_type": "stream",
          "name": "stdout",
          "text": [
            "<Response [200]>\n",
            "MGLU3F averageBuyValue: 3.7 ownedQuantity: 364 ownedValue: 1345.39 {'cnpj': '47960950000121', 'name': 'MAGAZINE LUIZA S.A.', 'irpf_code': 31}\n",
            "ABEV3F averageBuyValue: 14.66 ownedQuantity: 46 ownedValue: 674.5 {'cnpj': '07526557000100', 'name': 'AMBEV S.A.', 'irpf_code': 31}\n",
            "ITUB4F averageBuyValue: 23.1 ownedQuantity: 10 ownedValue: 231.0 {'cnpj': '60872504000123', 'name': 'ITAU UNIBANCO HOLDING S.A.', 'irpf_code': 31}\n",
            "LVBI11 averageBuyValue: 100.85 ownedQuantity: 15 ownedValue: 1512.77 {'irpf_code': 73, 'cnpj': '30.629.603/0001-18', 'name': 'FUNDO DE INVESTIMENTO IMOBILIARIO &#8211; VBI LOGISTICO'}\n",
            "MGLU3 averageBuyValue: 2.81 ownedQuantity: 400 ownedValue: 1125.0 {'cnpj': '47960950000121', 'name': 'MAGAZINE LUIZA S.A.', 'irpf_code': 31}\n",
            "GTWR11 averageBuyValue: 69.75 ownedQuantity: 6 ownedValue: 418.53 {'irpf_code': 73, 'cnpj': '23.740.527/0001-58', 'name': 'FUNDO DE INVESTIMENTO IMOBILIARIO GREEN TOWERS'}\n"
          ]
        }
      ]
    },
    {
      "cell_type": "markdown",
      "source": [
        "Esse trecho vai baixar todas as notas de negociação (pdf) da NuInvest localmente.\n",
        "\n",
        "Observação: Não testado com FI e RV."
      ],
      "metadata": {
        "id": "mXBndGKPVmqG"
      }
    },
    {
      "cell_type": "code",
      "source": [
        "# Get Invoices Pdfs\n",
        "\n",
        "def get_invoices(prefix):\n",
        "\n",
        "  response = session.get(f\"https://www.nuinvest.com.br/api/gringott/invoices/1/{prefix}?startDate={year}-01-01&endDate={year}-12-31\")\n",
        "  response.raise_for_status()\n",
        "\n",
        "  print(prefix, response)\n",
        "\n",
        "  invoices = []\n",
        "  if response.status_code == 204:\n",
        "    print(f'No data for {prefix}')\n",
        "  else:\n",
        "    invoices = response.json()['value']['invoices']\n",
        "  \n",
        "  for invoice in invoices:\n",
        "    params_values = {key:val for (key,val) in invoice.items() if key in ['invoiceNumber', 'custodyId', 'date']}\n",
        "    # FI não tem custodyId\n",
        "    # RV tem o data e não tem custodyid\n",
        "    # Não testado com TP e PS pq eu não tinha papéis pra isso\n",
        "\n",
        "    response = session.get(f\"https://www.nuinvest.com.br/api/gringott/invoices/report/1/{prefix}\", params=params_values, stream=True)\n",
        "    response.raise_for_status()\n",
        "\n",
        "    filename = Path(f\"Invoice_{prefix}_\" + '_'.join(str(x) for x in params_values.values()) + '.pdf')\n",
        "    filename.write_bytes(response.content)\n",
        "\n",
        "papers = ['TD', 'TP', 'FI', 'RV', 'PS']\n",
        "for paper in papers:\n",
        "  get_invoices(paper)\n",
        "\n"
      ],
      "metadata": {
        "colab": {
          "base_uri": "https://localhost:8080/"
        },
        "id": "BHrEPpYuWtym",
        "outputId": "7e9b3f9c-d9fd-4be4-a2a7-36dd3b5edfa9"
      },
      "execution_count": 94,
      "outputs": [
        {
          "output_type": "stream",
          "name": "stdout",
          "text": [
            "TD <Response [200]>\n",
            "TP <Response [204]>\n",
            "No data for TP\n",
            "FI <Response [204]>\n",
            "No data for FI\n",
            "RV <Response [200]>\n",
            "PS <Response [204]>\n",
            "No data for PS\n"
          ]
        }
      ]
    },
    {
      "cell_type": "markdown",
      "source": [
        "Esse trecho minera os PDFs e transforma em texto para ser mais fácil interpretar os dados."
      ],
      "metadata": {
        "id": "26wMceQ9V1cG"
      }
    },
    {
      "cell_type": "code",
      "source": [
        "%%bash\n",
        "for f in ./*.pdf\n",
        "do\n",
        " pdf2txt.py -o $f.txt $f\n",
        "done"
      ],
      "metadata": {
        "id": "I_b8nTyETsK_"
      },
      "execution_count": 95,
      "outputs": []
    },
    {
      "cell_type": "markdown",
      "source": [
        "Aqui lemos os textos e sumarizamos o que deve ser declarado e onde no IRPF.\n",
        "\n",
        "Importante: Não nos responsabilizamos pela corretude dessas informações. Use por sua conta e risco."
      ],
      "metadata": {
        "id": "oXn7YKXLV8vv"
      }
    },
    {
      "cell_type": "code",
      "source": [
        "# FI = fundo de investimento\n",
        "# TD = tesouro direto\n",
        "# TP = tesouro privado\n",
        "# RV = B3 ações/opções\n",
        "# PS = títulos públicos\n",
        "\n",
        "data = {}\n",
        "\n",
        "for entry in os.scandir('.'):\n",
        "    if entry.is_file() and entry.name.endswith('.txt'):\n",
        "      txt = Path(entry).read_text()\n",
        "      #print(entry)\n",
        "\n",
        "      if entry.name.startswith('Invoice_FI_'):\n",
        "        matches = re.search(r\"\\n\\bCNPJ Fundo\\n(.+)\\b\", txt)\n",
        "        cnpj = matches.group(1)\n",
        "\n",
        "        cumulated = data.get(cnpj)\n",
        "        if not cumulated:\n",
        "          cumulated = {}\n",
        "\n",
        "          matches = re.search(r\"\\n\\bFundo\\n(.+)\\b\", txt)\n",
        "          cumulated['name'] = matches.group(1)\n",
        "          \n",
        "          cumulated['buy_quantity'] = 0\n",
        "          cumulated['total_buy_value'] = 0\n",
        "          cumulated['sell_quantity'] = 0\n",
        "          cumulated['irpf_code'] = 73 # FIIs: você pode utilizar o preço médio de compra e o código 73 - Fundos de investimento imobiliário.\n",
        "\n",
        "        matches = re.search(r\"\\n\\bQuantidade de cotas\\n(.+)\\b\", txt)\n",
        "        share_qty = float(matches.group(1).replace('.','').replace(',','.'))\n",
        "\n",
        "        #matches = re.search(r\"\\n\\bValor da Cota\\n(.+)\\b\", txt)\n",
        "        #share_value = matches.group(1)\n",
        "        \n",
        "        matches = re.search(r\"\\n\\bValor da Operação\\n(.+)\\b\", txt)\n",
        "        operation_value = float(matches.group(1).replace('.','').replace(',','.').replace('R$ ',''))\n",
        "\n",
        "        matches = re.search(r\"\\n\\bNota de\\n(.+)\\b\", txt)\n",
        "        trade_type = matches.group(1)\n",
        "        if trade_type == 'APLICAÇÃO':\n",
        "          cumulated['buy_quantity'] = cumulated['buy_quantity'] + share_qty\n",
        "          cumulated['total_buy_value'] = cumulated['total_buy_value'] + operation_value\n",
        "        else:\n",
        "          cumulated['sell_quantity'] = cumulated['sell_quantity'] + share_qty\n",
        "\n",
        "        cumulated['average_buy_value'] = cumulated['total_buy_value'] / cumulated['buy_quantity']\n",
        "        cumulated['owned_total'] = cumulated['average_buy_value'] * (cumulated['buy_quantity'] - cumulated['sell_quantity'])\n",
        "\n",
        "        data[cnpj] = cumulated\n",
        "\n",
        "      elif entry.name.startswith('Invoice_TD_'):\n",
        "        matches = re.search(r\"\\n\\bTipo\\n(.+)\\b\", txt)\n",
        "        \n",
        "        cnpj = '62.169.875/0001-79' # Tesouro Direto é a própria corretora\n",
        "\n",
        "        cumulated = data.get(cnpj)\n",
        "        if not cumulated:\n",
        "          cumulated = {}\n",
        "\n",
        "          matches = re.search(r\"\\n\\bTítulo\\n(.+)\\b\", txt)\n",
        "          cumulated['name'] = matches.group(1)\n",
        "          \n",
        "          cumulated['buy_quantity'] = 0\n",
        "          cumulated['total_buy_value'] = 0\n",
        "          cumulated['sell_quantity'] = 0\n",
        "          cumulated['irpf_code'] = 45 # 45 – Aplicação de renda fixa (CDB, RDB e outros)\n",
        "\n",
        "        matches = re.search(r\"\\n\\bQuantidade\\n(.+)\\b\", txt)\n",
        "        share_qty = float(matches.group(1).replace('.','').replace(',','.'))\n",
        "\n",
        "        #matches = re.search(r\"\\n\\bValor 1 título\\n(.+)\\b\", txt)\n",
        "        #share_value = matches.group(1)\n",
        "        \n",
        "        matches = re.search(r\"\\n\\bValor Total\\n(.+)\\b\", txt)\n",
        "        operation_value = float(matches.group(1).replace('.','').replace(',','.').replace('R$ ',''))\n",
        "\n",
        "        matches = re.search(r\"\\n\\bTipo\\n(.+)\\b\", txt)\n",
        "        trade_type = matches.group(1)\n",
        "        if trade_type == 'Compra':\n",
        "          cumulated['buy_quantity'] = cumulated['buy_quantity'] + share_qty\n",
        "          cumulated['total_buy_value'] = cumulated['total_buy_value'] + operation_value\n",
        "        else:\n",
        "          cumulated['sell_quantity'] = cumulated['sell_quantity'] + share_qty\n",
        "\n",
        "        try:\n",
        "          cumulated['average_buy_value'] = cumulated['total_buy_value'] / cumulated['buy_quantity']\n",
        "          cumulated['owned_total'] = cumulated['average_buy_value'] * (cumulated['buy_quantity'] - cumulated['sell_quantity'])\n",
        "        except ZeroDivisionError:\n",
        "          pass\n",
        "\n",
        "        data[cnpj] = cumulated\n",
        "\n",
        "      elif entry.name.startswith('Invoice_RV_'):\n",
        "\n",
        "        # Isso vai ser pego pelo bloco anterior.\n",
        "        pass\n",
        "\n",
        "        # regex = r\"(\\bFRACIONARIO\\b|\\bVISTA\\b)\"\n",
        "        # matches = re.finditer(regex, txt, re.MULTILINE)\n",
        "        # for matchNum, match in enumerate(matches, start=1):\n",
        "        #   print(match)\n",
        "        #   data[matchNum] = {'type': match.group(0)}\n",
        "        #   word = re.compile(\"\\w+\", re.MULTILINE)\n",
        "        #   next_word = word.match(txt, match.endpos)\n",
        "        #   print(next_word)\n",
        "        #   data[matchNum]['option'] = next_word.group(0)\n",
        "\n",
        "      else:\n",
        "        print('Não implementado:', entry.name)\n",
        "\n",
        "      \n",
        "import json\n",
        "print(json.dumps(data, indent=4, sort_keys=True))"
      ],
      "metadata": {
        "colab": {
          "base_uri": "https://localhost:8080/"
        },
        "id": "0gKjngsAV7vZ",
        "outputId": "4f73ef8e-b50c-4598-c12c-cbf8cb83d972"
      },
      "execution_count": 96,
      "outputs": [
        {
          "output_type": "stream",
          "name": "stdout",
          "text": [
            "{\n",
            "    \"62.169.875/0001-79\": {\n",
            "        \"buy_quantity\": 0,\n",
            "        \"irpf_code\": 45,\n",
            "        \"name\": \"Tesouro Selic 2027\",\n",
            "        \"sell_quantity\": 1.4299999999999997,\n",
            "        \"total_buy_value\": 0\n",
            "    }\n",
            "}\n"
          ]
        }
      ]
    },
    {
      "cell_type": "code",
      "source": [],
      "metadata": {
        "id": "reuXUjNehle-"
      },
      "execution_count": 96,
      "outputs": []
    }
  ]
}